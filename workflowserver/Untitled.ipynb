{
 "cells": [
  {
   "cell_type": "code",
   "execution_count": 2,
   "id": "b8b3cc69",
   "metadata": {},
   "outputs": [],
   "source": [
    "from flask import Flask,request \n",
    "import pymysql\n",
    "from flask_cors import CORS\n",
    "\n",
    "import threading\n",
    "lock = threading.Lock()\n",
    "import json "
   ]
  },
  {
   "cell_type": "code",
   "execution_count": 3,
   "id": "aadbb8f0",
   "metadata": {},
   "outputs": [],
   "source": [
    "def dbConnection():\n",
    "    try:\n",
    "        connection = pymysql.connect(host=\"localhost\", user=\"root\", password=\"root\", database=\"operationalflow\")\n",
    "        return connection\n",
    "    except:\n",
    "        print(\"Something went wrong in database Connection\")\n",
    "\n",
    "def dbClose():\n",
    "    try:\n",
    "        dbConnection().close()\n",
    "    except:\n",
    "        print(\"Something went wrong in Close DB Connection\")\n",
    "\n",
    "con = dbConnection()\n",
    "cursor = con.cursor()"
   ]
  },
  {
   "cell_type": "code",
   "execution_count": 8,
   "id": "7d623662",
   "metadata": {},
   "outputs": [
    {
     "name": "stdout",
     "output_type": "stream",
     "text": [
      "(('HR', 'Promotion', 'None'), ('Project manager', 'Promotion', 'Accepted'), ('HR', 'Leave', 'Accepted'), ('Team Leader', 'Leave', 'None'))\n",
      "------------------------------\n",
      "['HR', 'Project manager']\n",
      "[('Project manager', 'Promotion', 'Accepted')]\n",
      "['HR', 'Team Leader']\n",
      "[('HR', 'Leave', 'Accepted')]\n",
      "[]\n",
      "[]\n",
      "------------------------------\n"
     ]
    }
   ],
   "source": [
    "lock.acquire()        \n",
    "cursor.execute('SELECT whoaccess,typeofapply,status FROM userapply WHERE username = %s',('y'))\n",
    "row = cursor.fetchall() \n",
    "lock.release()\n",
    "\n",
    "print(row)\n",
    "p1=[]\n",
    "p2=[]\n",
    "\n",
    "l1=[]\n",
    "l2=[]\n",
    "\n",
    "a1=[]\n",
    "a2=[]\n",
    "\n",
    "for i in row:\n",
    "    if i[1] == 'Promotion':\n",
    "        p1.append(i[0])\n",
    "        if i[2] != 'None':\n",
    "            p2.append(i)    \n",
    "    \n",
    "    elif i[1] == 'Leave':\n",
    "        l1.append(i[0])\n",
    "        if i[2] != 'None':\n",
    "            l2.append(i)\n",
    "    else:\n",
    "        a1.append(i[0])\n",
    "        if i[2] != 'None':\n",
    "            a2.append(i)\n",
    "            \n",
    "print('------------------------------')\n",
    "print(p1)\n",
    "print(p2)\n",
    "print(l1)\n",
    "print(l2)\n",
    "print(a1)\n",
    "print(a2)\n",
    "print('------------------------------')"
   ]
  },
  {
   "cell_type": "code",
   "execution_count": 30,
   "id": "0546e73a",
   "metadata": {},
   "outputs": [],
   "source": [
    "p1 = ['HR', 'Project manager','Team Leader']\n",
    "\n",
    "p2 = [('Team Leader', 'Leave', 'Accepted'),('HR', 'Promotion', 'Accepted')]"
   ]
  },
  {
   "cell_type": "code",
   "execution_count": 31,
   "id": "d5a0e061",
   "metadata": {},
   "outputs": [
    {
     "data": {
      "text/plain": [
       "(['Team Leader', 'HR'],\n",
       " ['HR', 'Project manager', 'Project manager', 'Team Leader'])"
      ]
     },
     "execution_count": 31,
     "metadata": {},
     "output_type": "execute_result"
    }
   ],
   "source": [
    "p_lst = []\n",
    "temp_lst = []\n",
    "for i in range(len(p2)):\n",
    "    for j in p1:\n",
    "#         print(p2[i],j)\n",
    "        if j in p2[i]:\n",
    "            p_lst.append(j)\n",
    "        else:\n",
    "            temp_lst.append(j)\n",
    "            \n",
    "p_lst, temp_lst"
   ]
  },
  {
   "cell_type": "code",
   "execution_count": 5,
   "id": "9b4f9093",
   "metadata": {},
   "outputs": [],
   "source": [
    "# lst = []\n",
    "\n",
    "# a = [\"HR\",\"project manager\", \"Team Leader\"]\n",
    "\n",
    "# lst.insert(2, a[0])\n",
    "# lst.insert(1, a[2])\n",
    "# lst.insert(3, a[1])\n",
    "\n",
    "# lst[0]"
   ]
  },
  {
   "cell_type": "code",
   "execution_count": null,
   "id": "dd04bba4",
   "metadata": {},
   "outputs": [],
   "source": [
    "\n",
    "# plist=[]\n",
    "# llist=[]\n",
    "# alist=[]\n",
    "\n",
    "# lst = []\n",
    "\n",
    "# for i in row:\n",
    "#     lst.append(i[0])\n",
    "#     if i[1] == 'Promotion':\n",
    "#         plist.append(i)\n",
    "#     elif i[1] == 'Leave':\n",
    "#         llist.append(i)\n",
    "#     else:\n",
    "#         alist.append(i)\n",
    "# print('-------------------------')\n",
    "# print(plist)\n",
    "# print('-------------------------')\n",
    "# print(llist)\n",
    "# print('-------------------------')\n",
    "# print(alist)\n",
    "# print('-------------------------')\n",
    "# print(lst)"
   ]
  }
 ],
 "metadata": {
  "kernelspec": {
   "display_name": "Python 3 (ipykernel)",
   "language": "python",
   "name": "python3"
  },
  "language_info": {
   "codemirror_mode": {
    "name": "ipython",
    "version": 3
   },
   "file_extension": ".py",
   "mimetype": "text/x-python",
   "name": "python",
   "nbconvert_exporter": "python",
   "pygments_lexer": "ipython3",
   "version": "3.8.13"
  }
 },
 "nbformat": 4,
 "nbformat_minor": 5
}
